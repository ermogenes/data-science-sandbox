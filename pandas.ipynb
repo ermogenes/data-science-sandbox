{
 "cells": [
  {
   "cell_type": "markdown",
   "metadata": {},
   "source": [
    "# ``pandas`` Quickstart"
   ]
  },
  {
   "cell_type": "markdown",
   "metadata": {},
   "source": [
    "https://www.dataquest.io/blog/pandas-cheat-sheet/"
   ]
  },
  {
   "cell_type": "markdown",
   "metadata": {},
   "source": [
    "### Conceitos"
   ]
  },
  {
   "cell_type": "markdown",
   "metadata": {},
   "source": [
    "* ``DataFrame`` -- equivalente a uma tabela (matriz)\n",
    "* ``Series`` -- equivalente a uma coluna (vetor)"
   ]
  },
  {
   "cell_type": "markdown",
   "metadata": {},
   "source": [
    "### Carregando um dataset"
   ]
  },
  {
   "cell_type": "markdown",
   "metadata": {},
   "source": [
    "Importando os módulos ``pandas`` e ``matplotlib``:"
   ]
  },
  {
   "cell_type": "code",
   "execution_count": 1,
   "metadata": {},
   "outputs": [
    {
     "data": {
      "text/plain": [
       "module"
      ]
     },
     "execution_count": 1,
     "metadata": {},
     "output_type": "execute_result"
    }
   ],
   "source": [
    "import pandas as pd\n",
    "import matplotlib.pyplot as plt\n",
    "\n",
    "type(pd)"
   ]
  },
  {
   "cell_type": "markdown",
   "metadata": {},
   "source": [
    "#### Lendo o arquivo xls (Excel) para um ``DataFrame``:"
   ]
  },
  {
   "cell_type": "code",
   "execution_count": 2,
   "metadata": {},
   "outputs": [
    {
     "data": {
      "text/plain": [
       "pandas.core.frame.DataFrame"
      ]
     },
     "execution_count": 2,
     "metadata": {},
     "output_type": "execute_result"
    }
   ],
   "source": [
    "ocupacao = pd.read_excel(\"ibge-ocupacao-por-cnae-2015.xlsx\") # https://downloads.ibge.gov.br/downloads_estatisticas.htm\n",
    "\n",
    "type(ocupacao)"
   ]
  },
  {
   "cell_type": "markdown",
   "metadata": {},
   "source": [
    "### Explorando o ``DataFrame``"
   ]
  },
  {
   "cell_type": "markdown",
   "metadata": {},
   "source": [
    "Exibindo os primeiros e os últimos registros do ``DataFrame``:"
   ]
  },
  {
   "cell_type": "code",
   "execution_count": 3,
   "metadata": {},
   "outputs": [
    {
     "data": {
      "text/html": [
       "<div>\n",
       "<style>\n",
       "    .dataframe thead tr:only-child th {\n",
       "        text-align: right;\n",
       "    }\n",
       "\n",
       "    .dataframe thead th {\n",
       "        text-align: left;\n",
       "    }\n",
       "\n",
       "    .dataframe tbody tr th {\n",
       "        vertical-align: top;\n",
       "    }\n",
       "</style>\n",
       "<table border=\"1\" class=\"dataframe\">\n",
       "  <thead>\n",
       "    <tr style=\"text-align: right;\">\n",
       "      <th></th>\n",
       "      <th>secao_cnae</th>\n",
       "      <th>secao_cnae_desc</th>\n",
       "      <th>unidade_local</th>\n",
       "      <th>ocupado_total</th>\n",
       "      <th>ocupado_assalariado</th>\n",
       "      <th>folha_k_brl</th>\n",
       "      <th>salario_medio_mensal_sm</th>\n",
       "      <th>salario_medio_mensal_brl</th>\n",
       "    </tr>\n",
       "  </thead>\n",
       "  <tbody>\n",
       "    <tr>\n",
       "      <th>0</th>\n",
       "      <td>A</td>\n",
       "      <td>Agricultura, pecuária, produção florestal, pes...</td>\n",
       "      <td>133990</td>\n",
       "      <td>667182</td>\n",
       "      <td>538393</td>\n",
       "      <td>12282068</td>\n",
       "      <td>2.1</td>\n",
       "      <td>1674.90</td>\n",
       "    </tr>\n",
       "    <tr>\n",
       "      <th>1</th>\n",
       "      <td>B</td>\n",
       "      <td>Indústrias extrativas</td>\n",
       "      <td>13300</td>\n",
       "      <td>251501</td>\n",
       "      <td>234486</td>\n",
       "      <td>17903134</td>\n",
       "      <td>7.2</td>\n",
       "      <td>5681.81</td>\n",
       "    </tr>\n",
       "    <tr>\n",
       "      <th>2</th>\n",
       "      <td>C</td>\n",
       "      <td>Indústrias de transformação</td>\n",
       "      <td>448378</td>\n",
       "      <td>7889466</td>\n",
       "      <td>7277993</td>\n",
       "      <td>252095291</td>\n",
       "      <td>3.2</td>\n",
       "      <td>2501.89</td>\n",
       "    </tr>\n",
       "    <tr>\n",
       "      <th>3</th>\n",
       "      <td>D</td>\n",
       "      <td>Eletricidade e gás</td>\n",
       "      <td>5839</td>\n",
       "      <td>121194</td>\n",
       "      <td>116724</td>\n",
       "      <td>10296967</td>\n",
       "      <td>8.6</td>\n",
       "      <td>6798.67</td>\n",
       "    </tr>\n",
       "    <tr>\n",
       "      <th>4</th>\n",
       "      <td>E</td>\n",
       "      <td>Água, esgoto, atividades de gestão de resíduos...</td>\n",
       "      <td>14052</td>\n",
       "      <td>391134</td>\n",
       "      <td>376111</td>\n",
       "      <td>13938798</td>\n",
       "      <td>3.5</td>\n",
       "      <td>2790.79</td>\n",
       "    </tr>\n",
       "  </tbody>\n",
       "</table>\n",
       "</div>"
      ],
      "text/plain": [
       "  secao_cnae                                    secao_cnae_desc  \\\n",
       "0          A  Agricultura, pecuária, produção florestal, pes...   \n",
       "1          B                              Indústrias extrativas   \n",
       "2          C                        Indústrias de transformação   \n",
       "3          D                                 Eletricidade e gás   \n",
       "4          E  Água, esgoto, atividades de gestão de resíduos...   \n",
       "\n",
       "   unidade_local  ocupado_total  ocupado_assalariado  folha_k_brl  \\\n",
       "0         133990         667182               538393     12282068   \n",
       "1          13300         251501               234486     17903134   \n",
       "2         448378        7889466              7277993    252095291   \n",
       "3           5839         121194               116724     10296967   \n",
       "4          14052         391134               376111     13938798   \n",
       "\n",
       "   salario_medio_mensal_sm  salario_medio_mensal_brl  \n",
       "0                      2.1                   1674.90  \n",
       "1                      7.2                   5681.81  \n",
       "2                      3.2                   2501.89  \n",
       "3                      8.6                   6798.67  \n",
       "4                      3.5                   2790.79  "
      ]
     },
     "execution_count": 3,
     "metadata": {},
     "output_type": "execute_result"
    }
   ],
   "source": [
    "ocupacao.head()"
   ]
  },
  {
   "cell_type": "code",
   "execution_count": 4,
   "metadata": {},
   "outputs": [
    {
     "data": {
      "text/html": [
       "<div>\n",
       "<style>\n",
       "    .dataframe thead tr:only-child th {\n",
       "        text-align: right;\n",
       "    }\n",
       "\n",
       "    .dataframe thead th {\n",
       "        text-align: left;\n",
       "    }\n",
       "\n",
       "    .dataframe tbody tr th {\n",
       "        vertical-align: top;\n",
       "    }\n",
       "</style>\n",
       "<table border=\"1\" class=\"dataframe\">\n",
       "  <thead>\n",
       "    <tr style=\"text-align: right;\">\n",
       "      <th></th>\n",
       "      <th>secao_cnae</th>\n",
       "      <th>secao_cnae_desc</th>\n",
       "      <th>unidade_local</th>\n",
       "      <th>ocupado_total</th>\n",
       "      <th>ocupado_assalariado</th>\n",
       "      <th>folha_k_brl</th>\n",
       "      <th>salario_medio_mensal_sm</th>\n",
       "      <th>salario_medio_mensal_brl</th>\n",
       "    </tr>\n",
       "  </thead>\n",
       "  <tbody>\n",
       "    <tr>\n",
       "      <th>15</th>\n",
       "      <td>P</td>\n",
       "      <td>Educação</td>\n",
       "      <td>183465</td>\n",
       "      <td>3173848</td>\n",
       "      <td>2988795</td>\n",
       "      <td>127538400</td>\n",
       "      <td>3.8</td>\n",
       "      <td>2997.50</td>\n",
       "    </tr>\n",
       "    <tr>\n",
       "      <th>16</th>\n",
       "      <td>Q</td>\n",
       "      <td>Saúde humana e serviços sociais</td>\n",
       "      <td>192022</td>\n",
       "      <td>2785605</td>\n",
       "      <td>2465596</td>\n",
       "      <td>81509032</td>\n",
       "      <td>3.2</td>\n",
       "      <td>2543.18</td>\n",
       "    </tr>\n",
       "    <tr>\n",
       "      <th>17</th>\n",
       "      <td>R</td>\n",
       "      <td>Artes, cultura, esporte e recreação</td>\n",
       "      <td>70025</td>\n",
       "      <td>347131</td>\n",
       "      <td>262394</td>\n",
       "      <td>6622296</td>\n",
       "      <td>2.5</td>\n",
       "      <td>1941.09</td>\n",
       "    </tr>\n",
       "    <tr>\n",
       "      <th>18</th>\n",
       "      <td>S</td>\n",
       "      <td>Outras atividades de serviços</td>\n",
       "      <td>337608</td>\n",
       "      <td>1379992</td>\n",
       "      <td>1111441</td>\n",
       "      <td>26018329</td>\n",
       "      <td>2.2</td>\n",
       "      <td>1768.80</td>\n",
       "    </tr>\n",
       "    <tr>\n",
       "      <th>19</th>\n",
       "      <td>U</td>\n",
       "      <td>Organismos internacionais e outras instituiçõe...</td>\n",
       "      <td>278</td>\n",
       "      <td>2539</td>\n",
       "      <td>2443</td>\n",
       "      <td>146644</td>\n",
       "      <td>5.9</td>\n",
       "      <td>4648.91</td>\n",
       "    </tr>\n",
       "  </tbody>\n",
       "</table>\n",
       "</div>"
      ],
      "text/plain": [
       "   secao_cnae                                    secao_cnae_desc  \\\n",
       "15          P                                           Educação   \n",
       "16          Q                    Saúde humana e serviços sociais   \n",
       "17          R                Artes, cultura, esporte e recreação   \n",
       "18          S                      Outras atividades de serviços   \n",
       "19          U  Organismos internacionais e outras instituiçõe...   \n",
       "\n",
       "    unidade_local  ocupado_total  ocupado_assalariado  folha_k_brl  \\\n",
       "15         183465        3173848              2988795    127538400   \n",
       "16         192022        2785605              2465596     81509032   \n",
       "17          70025         347131               262394      6622296   \n",
       "18         337608        1379992              1111441     26018329   \n",
       "19            278           2539                 2443       146644   \n",
       "\n",
       "    salario_medio_mensal_sm  salario_medio_mensal_brl  \n",
       "15                      3.8                   2997.50  \n",
       "16                      3.2                   2543.18  \n",
       "17                      2.5                   1941.09  \n",
       "18                      2.2                   1768.80  \n",
       "19                      5.9                   4648.91  "
      ]
     },
     "execution_count": 4,
     "metadata": {},
     "output_type": "execute_result"
    }
   ],
   "source": [
    "ocupacao.tail()"
   ]
  },
  {
   "cell_type": "markdown",
   "metadata": {},
   "source": [
    "Formato da matriz (``linhas x colunas``):"
   ]
  },
  {
   "cell_type": "code",
   "execution_count": 5,
   "metadata": {},
   "outputs": [
    {
     "data": {
      "text/plain": [
       "(20, 8)"
      ]
     },
     "execution_count": 5,
     "metadata": {},
     "output_type": "execute_result"
    }
   ],
   "source": [
    "ocupacao.shape"
   ]
  },
  {
   "cell_type": "markdown",
   "metadata": {},
   "source": [
    "Descrição do ``DataFrame``:"
   ]
  },
  {
   "cell_type": "code",
   "execution_count": 6,
   "metadata": {},
   "outputs": [
    {
     "name": "stdout",
     "output_type": "stream",
     "text": [
      "<class 'pandas.core.frame.DataFrame'>\n",
      "RangeIndex: 20 entries, 0 to 19\n",
      "Data columns (total 8 columns):\n",
      "secao_cnae                  20 non-null object\n",
      "secao_cnae_desc             20 non-null object\n",
      "unidade_local               20 non-null int64\n",
      "ocupado_total               20 non-null int64\n",
      "ocupado_assalariado         20 non-null int64\n",
      "folha_k_brl                 20 non-null int64\n",
      "salario_medio_mensal_sm     20 non-null float64\n",
      "salario_medio_mensal_brl    20 non-null float64\n",
      "dtypes: float64(2), int64(4), object(2)\n",
      "memory usage: 1.3+ KB\n"
     ]
    }
   ],
   "source": [
    "ocupacao.info()"
   ]
  },
  {
   "cell_type": "markdown",
   "metadata": {},
   "source": [
    "Descrição prévia dos dados do ``DataFrame``:"
   ]
  },
  {
   "cell_type": "code",
   "execution_count": 7,
   "metadata": {},
   "outputs": [
    {
     "data": {
      "text/html": [
       "<div>\n",
       "<style>\n",
       "    .dataframe thead tr:only-child th {\n",
       "        text-align: right;\n",
       "    }\n",
       "\n",
       "    .dataframe thead th {\n",
       "        text-align: left;\n",
       "    }\n",
       "\n",
       "    .dataframe tbody tr th {\n",
       "        vertical-align: top;\n",
       "    }\n",
       "</style>\n",
       "<table border=\"1\" class=\"dataframe\">\n",
       "  <thead>\n",
       "    <tr style=\"text-align: right;\">\n",
       "      <th></th>\n",
       "      <th>unidade_local</th>\n",
       "      <th>ocupado_total</th>\n",
       "      <th>ocupado_assalariado</th>\n",
       "      <th>folha_k_brl</th>\n",
       "      <th>salario_medio_mensal_sm</th>\n",
       "      <th>salario_medio_mensal_brl</th>\n",
       "    </tr>\n",
       "  </thead>\n",
       "  <tbody>\n",
       "    <tr>\n",
       "      <th>count</th>\n",
       "      <td>2.000000e+01</td>\n",
       "      <td>2.000000e+01</td>\n",
       "      <td>2.000000e+01</td>\n",
       "      <td>2.000000e+01</td>\n",
       "      <td>20.000000</td>\n",
       "      <td>20.000000</td>\n",
       "    </tr>\n",
       "    <tr>\n",
       "      <th>mean</th>\n",
       "      <td>2.801796e+05</td>\n",
       "      <td>2.677085e+06</td>\n",
       "      <td>2.327858e+06</td>\n",
       "      <td>7.795967e+07</td>\n",
       "      <td>3.880000</td>\n",
       "      <td>3069.523000</td>\n",
       "    </tr>\n",
       "    <tr>\n",
       "      <th>std</th>\n",
       "      <td>4.773146e+05</td>\n",
       "      <td>3.189545e+06</td>\n",
       "      <td>2.758505e+06</td>\n",
       "      <td>9.511414e+07</td>\n",
       "      <td>2.044917</td>\n",
       "      <td>1616.618262</td>\n",
       "    </tr>\n",
       "    <tr>\n",
       "      <th>min</th>\n",
       "      <td>2.780000e+02</td>\n",
       "      <td>2.539000e+03</td>\n",
       "      <td>2.443000e+03</td>\n",
       "      <td>1.466440e+05</td>\n",
       "      <td>1.600000</td>\n",
       "      <td>1250.190000</td>\n",
       "    </tr>\n",
       "    <tr>\n",
       "      <th>25%</th>\n",
       "      <td>5.783675e+04</td>\n",
       "      <td>3.801332e+05</td>\n",
       "      <td>3.476818e+05</td>\n",
       "      <td>1.352462e+07</td>\n",
       "      <td>2.425000</td>\n",
       "      <td>1898.017500</td>\n",
       "    </tr>\n",
       "    <tr>\n",
       "      <th>50%</th>\n",
       "      <td>1.654090e+05</td>\n",
       "      <td>1.405696e+06</td>\n",
       "      <td>1.054568e+06</td>\n",
       "      <td>4.471706e+07</td>\n",
       "      <td>3.200000</td>\n",
       "      <td>2522.535000</td>\n",
       "    </tr>\n",
       "    <tr>\n",
       "      <th>75%</th>\n",
       "      <td>2.962478e+05</td>\n",
       "      <td>2.975856e+06</td>\n",
       "      <td>2.653264e+06</td>\n",
       "      <td>8.366515e+07</td>\n",
       "      <td>4.600000</td>\n",
       "      <td>3652.785000</td>\n",
       "    </tr>\n",
       "    <tr>\n",
       "      <th>max</th>\n",
       "      <td>2.210564e+06</td>\n",
       "      <td>1.197151e+07</td>\n",
       "      <td>9.230303e+06</td>\n",
       "      <td>3.668136e+08</td>\n",
       "      <td>8.600000</td>\n",
       "      <td>6798.670000</td>\n",
       "    </tr>\n",
       "  </tbody>\n",
       "</table>\n",
       "</div>"
      ],
      "text/plain": [
       "       unidade_local  ocupado_total  ocupado_assalariado   folha_k_brl  \\\n",
       "count   2.000000e+01   2.000000e+01         2.000000e+01  2.000000e+01   \n",
       "mean    2.801796e+05   2.677085e+06         2.327858e+06  7.795967e+07   \n",
       "std     4.773146e+05   3.189545e+06         2.758505e+06  9.511414e+07   \n",
       "min     2.780000e+02   2.539000e+03         2.443000e+03  1.466440e+05   \n",
       "25%     5.783675e+04   3.801332e+05         3.476818e+05  1.352462e+07   \n",
       "50%     1.654090e+05   1.405696e+06         1.054568e+06  4.471706e+07   \n",
       "75%     2.962478e+05   2.975856e+06         2.653264e+06  8.366515e+07   \n",
       "max     2.210564e+06   1.197151e+07         9.230303e+06  3.668136e+08   \n",
       "\n",
       "       salario_medio_mensal_sm  salario_medio_mensal_brl  \n",
       "count                20.000000                 20.000000  \n",
       "mean                  3.880000               3069.523000  \n",
       "std                   2.044917               1616.618262  \n",
       "min                   1.600000               1250.190000  \n",
       "25%                   2.425000               1898.017500  \n",
       "50%                   3.200000               2522.535000  \n",
       "75%                   4.600000               3652.785000  \n",
       "max                   8.600000               6798.670000  "
      ]
     },
     "execution_count": 7,
     "metadata": {},
     "output_type": "execute_result"
    }
   ],
   "source": [
    "ocupacao.describe()"
   ]
  },
  {
   "cell_type": "markdown",
   "metadata": {},
   "source": [
    "#### Projeção (_a.k.a._ isolando colunas):"
   ]
  },
  {
   "cell_type": "code",
   "execution_count": 8,
   "metadata": {},
   "outputs": [
    {
     "data": {
      "text/plain": [
       "pandas.core.frame.DataFrame"
      ]
     },
     "execution_count": 8,
     "metadata": {},
     "output_type": "execute_result"
    }
   ],
   "source": [
    "cnae_salario = ocupacao[[\"secao_cnae\", \"salario_medio_mensal_brl\"]]\n",
    "type(cnae_salario)"
   ]
  },
  {
   "cell_type": "code",
   "execution_count": 9,
   "metadata": {},
   "outputs": [
    {
     "data": {
      "text/html": [
       "<div>\n",
       "<style>\n",
       "    .dataframe thead tr:only-child th {\n",
       "        text-align: right;\n",
       "    }\n",
       "\n",
       "    .dataframe thead th {\n",
       "        text-align: left;\n",
       "    }\n",
       "\n",
       "    .dataframe tbody tr th {\n",
       "        vertical-align: top;\n",
       "    }\n",
       "</style>\n",
       "<table border=\"1\" class=\"dataframe\">\n",
       "  <thead>\n",
       "    <tr style=\"text-align: right;\">\n",
       "      <th></th>\n",
       "      <th>secao_cnae</th>\n",
       "      <th>salario_medio_mensal_brl</th>\n",
       "    </tr>\n",
       "  </thead>\n",
       "  <tbody>\n",
       "    <tr>\n",
       "      <th>0</th>\n",
       "      <td>A</td>\n",
       "      <td>1674.90</td>\n",
       "    </tr>\n",
       "    <tr>\n",
       "      <th>1</th>\n",
       "      <td>B</td>\n",
       "      <td>5681.81</td>\n",
       "    </tr>\n",
       "    <tr>\n",
       "      <th>2</th>\n",
       "      <td>C</td>\n",
       "      <td>2501.89</td>\n",
       "    </tr>\n",
       "  </tbody>\n",
       "</table>\n",
       "</div>"
      ],
      "text/plain": [
       "  secao_cnae  salario_medio_mensal_brl\n",
       "0          A                   1674.90\n",
       "1          B                   5681.81\n",
       "2          C                   2501.89"
      ]
     },
     "execution_count": 9,
     "metadata": {},
     "output_type": "execute_result"
    }
   ],
   "source": [
    "cnae_salario.head(3)"
   ]
  },
  {
   "cell_type": "markdown",
   "metadata": {},
   "source": [
    "### Explorando as ``Series`` de um ``DataFrame``:"
   ]
  },
  {
   "cell_type": "markdown",
   "metadata": {},
   "source": [
    "Isolando os dados de uma coluna em uma ``Series``:"
   ]
  },
  {
   "cell_type": "code",
   "execution_count": 10,
   "metadata": {},
   "outputs": [
    {
     "data": {
      "text/plain": [
       "pandas.core.series.Series"
      ]
     },
     "execution_count": 10,
     "metadata": {},
     "output_type": "execute_result"
    }
   ],
   "source": [
    "sal = ocupacao[\"salario_medio_mensal_brl\"]\n",
    "\n",
    "type(sal)"
   ]
  },
  {
   "cell_type": "code",
   "execution_count": 11,
   "metadata": {},
   "outputs": [
    {
     "data": {
      "text/plain": [
       "0    1674.90\n",
       "1    5681.81\n",
       "2    2501.89\n",
       "Name: salario_medio_mensal_brl, dtype: float64"
      ]
     },
     "execution_count": 11,
     "metadata": {},
     "output_type": "execute_result"
    }
   ],
   "source": [
    "sal.head(3)"
   ]
  },
  {
   "cell_type": "code",
   "execution_count": 12,
   "metadata": {},
   "outputs": [
    {
     "data": {
      "text/plain": [
       "(20,)"
      ]
     },
     "execution_count": 12,
     "metadata": {},
     "output_type": "execute_result"
    }
   ],
   "source": [
    "sal.shape"
   ]
  },
  {
   "cell_type": "code",
   "execution_count": 13,
   "metadata": {},
   "outputs": [
    {
     "data": {
      "text/plain": [
       "count      20.000000\n",
       "mean     3069.523000\n",
       "std      1616.618262\n",
       "min      1250.190000\n",
       "25%      1898.017500\n",
       "50%      2522.535000\n",
       "75%      3652.785000\n",
       "max      6798.670000\n",
       "Name: salario_medio_mensal_brl, dtype: float64"
      ]
     },
     "execution_count": 13,
     "metadata": {},
     "output_type": "execute_result"
    }
   ],
   "source": [
    "sal.describe()"
   ]
  },
  {
   "cell_type": "code",
   "execution_count": 14,
   "metadata": {},
   "outputs": [
    {
     "data": {
      "text/plain": [
       "count     20\n",
       "unique    20\n",
       "top        H\n",
       "freq       1\n",
       "Name: secao_cnae, dtype: object"
      ]
     },
     "execution_count": 14,
     "metadata": {},
     "output_type": "execute_result"
    }
   ],
   "source": [
    "secao = ocupacao[\"secao_cnae\"]\n",
    "\n",
    "secao.describe()"
   ]
  },
  {
   "cell_type": "code",
   "execution_count": 15,
   "metadata": {},
   "outputs": [
    {
     "data": {
      "text/plain": [
       "3069.523"
      ]
     },
     "execution_count": 15,
     "metadata": {},
     "output_type": "execute_result"
    }
   ],
   "source": [
    "media = sal.mean()\n",
    "\n",
    "media"
   ]
  },
  {
   "cell_type": "code",
   "execution_count": 16,
   "metadata": {},
   "outputs": [
    {
     "data": {
      "text/plain": [
       "20"
      ]
     },
     "execution_count": 16,
     "metadata": {},
     "output_type": "execute_result"
    }
   ],
   "source": [
    "n_reg = sal.count()\n",
    "\n",
    "n_reg"
   ]
  },
  {
   "cell_type": "markdown",
   "metadata": {},
   "source": [
    "### Operações comuns"
   ]
  },
  {
   "cell_type": "markdown",
   "metadata": {},
   "source": [
    "Há correlação entre o número de unidades que praticam uma atividade e o salário médio de seus funcionários?"
   ]
  },
  {
   "cell_type": "code",
   "execution_count": 17,
   "metadata": {},
   "outputs": [
    {
     "data": {
      "text/html": [
       "<div>\n",
       "<style>\n",
       "    .dataframe thead tr:only-child th {\n",
       "        text-align: right;\n",
       "    }\n",
       "\n",
       "    .dataframe thead th {\n",
       "        text-align: left;\n",
       "    }\n",
       "\n",
       "    .dataframe tbody tr th {\n",
       "        vertical-align: top;\n",
       "    }\n",
       "</style>\n",
       "<table border=\"1\" class=\"dataframe\">\n",
       "  <thead>\n",
       "    <tr style=\"text-align: right;\">\n",
       "      <th></th>\n",
       "      <th>unidade_local</th>\n",
       "      <th>salario_medio_mensal_brl</th>\n",
       "    </tr>\n",
       "  </thead>\n",
       "  <tbody>\n",
       "    <tr>\n",
       "      <th>unidade_local</th>\n",
       "      <td>1.000000</td>\n",
       "      <td>-0.372388</td>\n",
       "    </tr>\n",
       "    <tr>\n",
       "      <th>salario_medio_mensal_brl</th>\n",
       "      <td>-0.372388</td>\n",
       "      <td>1.000000</td>\n",
       "    </tr>\n",
       "  </tbody>\n",
       "</table>\n",
       "</div>"
      ],
      "text/plain": [
       "                          unidade_local  salario_medio_mensal_brl\n",
       "unidade_local                  1.000000                 -0.372388\n",
       "salario_medio_mensal_brl      -0.372388                  1.000000"
      ]
     },
     "execution_count": 17,
     "metadata": {},
     "output_type": "execute_result"
    }
   ],
   "source": [
    "uls = ocupacao[[\"unidade_local\", \"salario_medio_mensal_brl\"]]\n",
    "uls.corr()"
   ]
  },
  {
   "cell_type": "markdown",
   "metadata": {},
   "source": [
    "#### Seleção (_a.k.a._ filtrando linhas):"
   ]
  },
  {
   "cell_type": "markdown",
   "metadata": {},
   "source": [
    "* Matriz:\n",
    "\n",
    "Sintaxe: ``DataFrameResultado`` = ``DataFrameOriginal``[_``CondicaoParaManterRegistro``_]\n",
    "\n",
    "Todas as ``Series`` que atenderem à condição serão incluídas."
   ]
  },
  {
   "cell_type": "code",
   "execution_count": 18,
   "metadata": {},
   "outputs": [
    {
     "data": {
      "text/html": [
       "<div>\n",
       "<style>\n",
       "    .dataframe thead tr:only-child th {\n",
       "        text-align: right;\n",
       "    }\n",
       "\n",
       "    .dataframe thead th {\n",
       "        text-align: left;\n",
       "    }\n",
       "\n",
       "    .dataframe tbody tr th {\n",
       "        vertical-align: top;\n",
       "    }\n",
       "</style>\n",
       "<table border=\"1\" class=\"dataframe\">\n",
       "  <thead>\n",
       "    <tr style=\"text-align: right;\">\n",
       "      <th></th>\n",
       "      <th>unidade_local</th>\n",
       "      <th>salario_medio_mensal_brl</th>\n",
       "    </tr>\n",
       "  </thead>\n",
       "  <tbody>\n",
       "    <tr>\n",
       "      <th>12</th>\n",
       "      <td>282747</td>\n",
       "      <td>3163.06</td>\n",
       "    </tr>\n",
       "    <tr>\n",
       "      <th>14</th>\n",
       "      <td>21272</td>\n",
       "      <td>3501.22</td>\n",
       "    </tr>\n",
       "    <tr>\n",
       "      <th>9</th>\n",
       "      <td>147353</td>\n",
       "      <td>4107.48</td>\n",
       "    </tr>\n",
       "    <tr>\n",
       "      <th>19</th>\n",
       "      <td>278</td>\n",
       "      <td>4648.91</td>\n",
       "    </tr>\n",
       "    <tr>\n",
       "      <th>1</th>\n",
       "      <td>13300</td>\n",
       "      <td>5681.81</td>\n",
       "    </tr>\n",
       "    <tr>\n",
       "      <th>10</th>\n",
       "      <td>118230</td>\n",
       "      <td>6181.90</td>\n",
       "    </tr>\n",
       "    <tr>\n",
       "      <th>3</th>\n",
       "      <td>5839</td>\n",
       "      <td>6798.67</td>\n",
       "    </tr>\n",
       "  </tbody>\n",
       "</table>\n",
       "</div>"
      ],
      "text/plain": [
       "    unidade_local  salario_medio_mensal_brl\n",
       "12         282747                   3163.06\n",
       "14          21272                   3501.22\n",
       "9          147353                   4107.48\n",
       "19            278                   4648.91\n",
       "1           13300                   5681.81\n",
       "10         118230                   6181.90\n",
       "3            5839                   6798.67"
      ]
     },
     "execution_count": 18,
     "metadata": {},
     "output_type": "execute_result"
    }
   ],
   "source": [
    "uls_acima_media = uls[uls[\"salario_medio_mensal_brl\"] >= media]\n",
    "\n",
    "uls_acima_media.sort_values(\"salario_medio_mensal_brl\")"
   ]
  },
  {
   "cell_type": "markdown",
   "metadata": {},
   "source": [
    "* Vetor:"
   ]
  },
  {
   "cell_type": "code",
   "execution_count": 19,
   "metadata": {},
   "outputs": [
    {
     "data": {
      "text/plain": [
       "7"
      ]
     },
     "execution_count": 19,
     "metadata": {},
     "output_type": "execute_result"
    }
   ],
   "source": [
    "top_sal = sal[sal >= media]\n",
    "\n",
    "top_sal.count()"
   ]
  },
  {
   "cell_type": "code",
   "execution_count": 20,
   "metadata": {},
   "outputs": [
    {
     "data": {
      "text/plain": [
       "12    3163.06\n",
       "14    3501.22\n",
       "9     4107.48\n",
       "19    4648.91\n",
       "1     5681.81\n",
       "10    6181.90\n",
       "3     6798.67\n",
       "Name: salario_medio_mensal_brl, dtype: float64"
      ]
     },
     "execution_count": 20,
     "metadata": {},
     "output_type": "execute_result"
    }
   ],
   "source": [
    "top_sal.sort_values()"
   ]
  },
  {
   "cell_type": "markdown",
   "metadata": {},
   "source": [
    "#### Plotando:"
   ]
  },
  {
   "cell_type": "code",
   "execution_count": 21,
   "metadata": {
    "scrolled": true
   },
   "outputs": [
    {
     "data": {
      "image/png": "[encoded data removed]",
      "text/plain": [
       "<matplotlib.figure.Figure at 0xa3a25f8>"
      ]
     },
     "metadata": {},
     "output_type": "display_data"
    }
   ],
   "source": [
    "uls_acima_media.plot.bar()\n",
    "plt.show()"
   ]
  },
  {
   "cell_type": "markdown",
   "metadata": {},
   "source": [
    "### Conectando com bancos de dados SQL"
   ]
  },
  {
   "cell_type": "code",
   "execution_count": 22,
   "metadata": {},
   "outputs": [
    {
     "data": {
      "text/html": [
       "<div>\n",
       "<style>\n",
       "    .dataframe thead tr:only-child th {\n",
       "        text-align: right;\n",
       "    }\n",
       "\n",
       "    .dataframe thead th {\n",
       "        text-align: left;\n",
       "    }\n",
       "\n",
       "    .dataframe tbody tr th {\n",
       "        vertical-align: top;\n",
       "    }\n",
       "</style>\n",
       "<table border=\"1\" class=\"dataframe\">\n",
       "  <thead>\n",
       "    <tr style=\"text-align: right;\">\n",
       "      <th></th>\n",
       "      <th>cd_identificador_cnae</th>\n",
       "      <th>cd_versao_cnae</th>\n",
       "      <th>cd_cnae</th>\n",
       "    </tr>\n",
       "  </thead>\n",
       "  <tbody>\n",
       "    <tr>\n",
       "      <th>0</th>\n",
       "      <td>1</td>\n",
       "      <td>220</td>\n",
       "      <td>0111301</td>\n",
       "    </tr>\n",
       "    <tr>\n",
       "      <th>1</th>\n",
       "      <td>2</td>\n",
       "      <td>220</td>\n",
       "      <td>0111302</td>\n",
       "    </tr>\n",
       "    <tr>\n",
       "      <th>2</th>\n",
       "      <td>3</td>\n",
       "      <td>220</td>\n",
       "      <td>0111303</td>\n",
       "    </tr>\n",
       "    <tr>\n",
       "      <th>3</th>\n",
       "      <td>4</td>\n",
       "      <td>220</td>\n",
       "      <td>0111399</td>\n",
       "    </tr>\n",
       "    <tr>\n",
       "      <th>4</th>\n",
       "      <td>5</td>\n",
       "      <td>220</td>\n",
       "      <td>0112101</td>\n",
       "    </tr>\n",
       "    <tr>\n",
       "      <th>5</th>\n",
       "      <td>6</td>\n",
       "      <td>220</td>\n",
       "      <td>0112102</td>\n",
       "    </tr>\n",
       "    <tr>\n",
       "      <th>6</th>\n",
       "      <td>7</td>\n",
       "      <td>220</td>\n",
       "      <td>0112199</td>\n",
       "    </tr>\n",
       "    <tr>\n",
       "      <th>7</th>\n",
       "      <td>8</td>\n",
       "      <td>220</td>\n",
       "      <td>0113000</td>\n",
       "    </tr>\n",
       "    <tr>\n",
       "      <th>8</th>\n",
       "      <td>9</td>\n",
       "      <td>220</td>\n",
       "      <td>0114800</td>\n",
       "    </tr>\n",
       "    <tr>\n",
       "      <th>9</th>\n",
       "      <td>10</td>\n",
       "      <td>220</td>\n",
       "      <td>0115600</td>\n",
       "    </tr>\n",
       "  </tbody>\n",
       "</table>\n",
       "</div>"
      ],
      "text/plain": [
       "   cd_identificador_cnae cd_versao_cnae  cd_cnae\n",
       "0                      1            220  0111301\n",
       "1                      2            220  0111302\n",
       "2                      3            220  0111303\n",
       "3                      4            220  0111399\n",
       "4                      5            220  0112101\n",
       "5                      6            220  0112102\n",
       "6                      7            220  0112199\n",
       "7                      8            220  0113000\n",
       "8                      9            220  0114800\n",
       "9                     10            220  0115600"
      ]
     },
     "execution_count": 22,
     "metadata": {},
     "output_type": "execute_result"
    }
   ],
   "source": [
    "import pyodbc as db\n",
    "\n",
    "connection_string = r\"DRIVER=SQL Server;Server=d72v220i;Database=sf9461;Trusted_Connection=True;\"\n",
    "odbc_con = db.connect(connection_string)\n",
    "sql_statement = \"SELECT * FROM cnae\"\n",
    "df = pd.read_sql_query(sql = sql_statement, con = odbc_con)\n",
    "odbc_con.close()\n",
    "\n",
    "df.head(10)"
   ]
  }
 ],
 "metadata": {
  "kernelspec": {
   "display_name": "Python 3",
   "language": "python",
   "name": "python3"
  },
  "language_info": {
   "codemirror_mode": {
    "name": "ipython",
    "version": 3
   },
   "file_extension": ".py",
   "mimetype": "text/x-python",
   "name": "python",
   "nbconvert_exporter": "python",
   "pygments_lexer": "ipython3",
   "version": "3.6.3"
  }
 },
 "nbformat": 4,
 "nbformat_minor": 2
}
